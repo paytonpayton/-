{
 "cells": [
  {
   "cell_type": "code",
   "execution_count": null,
   "metadata": {},
   "outputs": [],
   "source": [
    "import requests\n",
    "import optparse\n",
    "import json\n",
    "\n",
    "def Info(x=input(\"地点:\"), y=input(\"日期（例2019-05-06）：\")):\n",
    "    url = \"http://api.avatardata.cn/Weather/Query?key=c21c636341e5412097b41606aac9b35e&cityname=%s\"%x\n",
    "    header = {\n",
    "        'User-Agent': 'Mozilla/5.0 (Windows NT 6.1; Win64; x64) AppleWebKit/537.36 (KHTML, like Gecko) Chrome/63.0.3239.132 Safari/537.36'}\n",
    "    r = requests.get(url, headers=header)\n",
    "    sds = r.json()\n",
    "    print(\"----------------------所查天气--------------------------\")\n",
    "    lijs = sds['result']['weather'][0:]\n",
    "    for b in lijs:\n",
    "        if y == b['date']:\n",
    "            print(\"日期:\", b['date'], \"星期\", b['week'], \"农历:\", b['nongli'])\n",
    "            print( \"白天:\", b['info']['day'])\n",
    "            print( \"夜间:\", b['info']['night'])  \n",
    "    \n",
    "    print(\"----------------------今日天气--------------------------\")\n",
    "    print(\"天气:\", sds['result']['realtime']['weather']['info'], \"温度:\",sds['result']['realtime']['weather']['temperature'])\n",
    "    print(\"风度:\", sds['result']['realtime']['wind']['direct'], \"风力:\", sds['result']['realtime']['wind']['power'])\n",
    "    print(\"时间:\", sds['result']['realtime']['date'], \"地点:\", sds['result']['realtime']['city_name'], \"农历:\",sds['result']['realtime']['moon'])\n",
    "    print(\"运动:\", sds['result']['life']['info']['yundong'])\n",
    "    print(\"紫外线:\", sds['result']['life']['info']['ziwaixian'])\n",
    "    print('洗车:', sds['result']['life']['info']['xiche'], \"污染:\", sds['result']['life']['info']['wuran'])\n",
    "    print('穿衣:', sds['result']['life']['info']['chuanyi'])\n",
    "    \n",
    "       \n",
    "if __name__ == '__main__':\n",
    "    print(\"本程序仅预报7天内天气\")\n",
    "    Info()"
   ]
  },
  {
   "cell_type": "code",
   "execution_count": null,
   "metadata": {},
   "outputs": [],
   "source": []
  }
 ],
 "metadata": {
  "kernelspec": {
   "display_name": "Python 3",
   "language": "python",
   "name": "python3"
  },
  "language_info": {
   "codemirror_mode": {
    "name": "ipython",
    "version": 3
   },
   "file_extension": ".py",
   "mimetype": "text/x-python",
   "name": "python",
   "nbconvert_exporter": "python",
   "pygments_lexer": "ipython3",
   "version": "3.6.5"
  }
 },
 "nbformat": 4,
 "nbformat_minor": 2
}
